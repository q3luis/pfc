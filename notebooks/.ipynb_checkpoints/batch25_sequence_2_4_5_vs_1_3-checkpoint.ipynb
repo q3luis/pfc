{
 "cells": [
  {
   "cell_type": "markdown",
   "metadata": {
    "collapsed": false
   },
   "source": [
    "# Secuencias 2 4 y 5 vs Secuencias 1 y 3 :\n",
    "\n",
    "## Descripcion :\n",
    "En este esperimeto se agrupan las secuencias 2 4 y 5 y se genera un data set donde se calcula la imagen media y se entrena el modelo con estos datos. Este modelo se valida contra la secuencias 1 y 3 unidas\n",
    "\n",
    "## Datos de entrada:\n",
    "\n",
    "Entrada del modelo union de las secuencias 2 4 y 5 \n",
    "Validacion del modelo secuencias 1 y 3\n",
    "Para la transformacion del modelo se usa la media de la union de las secuencias 2 4 y 5.\n",
    "\n",
    "## Ajustes del entrenamiento:\n",
    "\n",
    "Numero de iteraciones : 35000\n",
    "Tamaño del mini batch : 25"
   ]
  },
  {
   "cell_type": "code",
   "execution_count": 1,
   "metadata": {
    "collapsed": true
   },
   "outputs": [],
   "source": [
    "# Inicializamos las librerias de cafe\n",
    "import caffe\n",
    "import lmdb\n",
    "import numpy as np\n",
    "import matplotlib.pyplot as plt\n",
    "from caffe.proto import caffe_pb2\n",
    "from caffe.io import datum_to_array, array_to_datum"
   ]
  },
  {
   "cell_type": "code",
   "execution_count": 2,
   "metadata": {
    "collapsed": true
   },
   "outputs": [],
   "source": [
    "import matplotlib.pyplot as plt\n",
    "import matplotlib.image as mpimg\n",
    "%matplotlib inline"
   ]
  },
  {
   "cell_type": "code",
   "execution_count": 3,
   "metadata": {
    "collapsed": true
   },
   "outputs": [],
   "source": [
    "blob = caffe.proto.caffe_pb2.BlobProto()\n",
    "data = open( '/vol/pfc/data/means/Sequence_2_4_5.binaryproto' , 'rb' ).read()\n",
    "blob.ParseFromString(data)\n",
    "arr = np.array( caffe.io.blobproto_to_array(blob) )\n",
    "out = arr[0]\n",
    "#np.save( '/vol/pfc/data/means/Sequence_2_4_5_mean.npy', out )"
   ]
  },
  {
   "cell_type": "code",
   "execution_count": 4,
   "metadata": {
    "collapsed": true
   },
   "outputs": [],
   "source": [
    "#Funcion que no sirve para hacer la prediccion\n",
    "def predict(image_in):\n",
    "    net.blobs['data'].data[...] = image_in\n",
    "    out = net.forward()\n",
    "    top_k = net.blobs['prob'].data[0].flatten().argsort()[-1:-6:-1]\n",
    "    output_prob = out['prob'][0]\n",
    "    #print 'predicted class is:', output_prob.argmax()\n",
    "    return output_prob.argmax()\n",
    "    "
   ]
  },
  {
   "cell_type": "code",
   "execution_count": null,
   "metadata": {
    "collapsed": true
   },
   "outputs": [],
   "source": []
  },
  {
   "cell_type": "code",
   "execution_count": 5,
   "metadata": {
    "collapsed": true
   },
   "outputs": [],
   "source": [
    "\n",
    "datum = caffe.proto.caffe_pb2.Datum()\n",
    "# Caffe en modo gpu para evaluar mas rapido\n",
    "caffe.set_mode_gpu()\n",
    "\n",
    "def load_sequence(path):\n",
    "    lmdb_env = lmdb.open(path)\n",
    "    lmdb_txn = lmdb_env.begin()\n",
    "    lmdb_cursor = lmdb_txn.cursor()\n",
    "    return lmdb_cursor\n",
    "\n",
    "def load_model(model_path,deploy_path):\n",
    "    #deploy_path=\"/vol/pfc/prototxt/sequence1/train_sequence_25_lmdb_deploy.prototxt\"    \n",
    "    net = caffe.Net(deploy_path,model_path, caffe.TEST)\n",
    "    return net\n",
    "   \n",
    "def load_transform(net,mean_path):\n",
    "    transformer = caffe.io.Transformer({'data': net.blobs['data'].data.shape})\n",
    "    transformer.set_mean('data', np.load(mean_path).mean(1).mean(1))\n",
    "    transformer.set_transpose('data', (2,0,1))\n",
    "    return transformer\n",
    "    \n",
    "    "
   ]
  },
  {
   "cell_type": "code",
   "execution_count": 6,
   "metadata": {
    "collapsed": true
   },
   "outputs": [],
   "source": [
    "sequences=[\"/vol/pfc/data/datasets/Sequence_2_4_5_lmdb\",\"/vol/pfc/data/datasets/Sequence_1_3_lmdb\"]\n",
    "\n",
    "models=[\"/vol/pfc/data/models/train_25_batch/train_sequence_2_4_5_25_lmdb_iter_35000.caffemodel\"]\n",
    "\n",
    "means=[\"/vol/pfc/data/means/Sequence_2_4_5_mean.npy\"]\n",
    "\n",
    "deploys=[\"/vol/pfc/prototxt/sequence_2_4_5/train_sequence_25_lmdb_deploy.prototxt\"]"
   ]
  },
  {
   "cell_type": "code",
   "execution_count": 7,
   "metadata": {
    "collapsed": false
   },
   "outputs": [],
   "source": [
    "def process_sequence(net,sequence,transform):\n",
    "    data_array = []\n",
    "    cnt=0\n",
    "    for key, value in sequence:\n",
    "        datum.ParseFromString(value)\n",
    "        label = datum.label\n",
    "        data = caffe.io.datum_to_array(datum)\n",
    "        image = np.transpose(data,(1, 2, 0))\n",
    "        prediccion = predict(transform.preprocess('data', image))\n",
    "        data_array.append((label,prediccion)) \n",
    "        #print \" label \"+str(label)+\" preiccion \"+str(prediccion)\n",
    "        #cnt+=1\n",
    "        #if(cnt>100):\n",
    "        #    break\n",
    "        \n",
    "    return data_array\n",
    "        "
   ]
  },
  {
   "cell_type": "code",
   "execution_count": 8,
   "metadata": {
    "collapsed": false
   },
   "outputs": [
    {
     "name": "stdout",
     "output_type": "stream",
     "text": [
      "inicio\n",
      "evalua el  modelo: /vol/pfc//data/models/train_25_batch/train_sequence_2_4_5_25_lmdb_iter_35000.caffemodel\n",
      "evalua sequence /vol/pfc/data/datasets/Sequence_2_4_5_lmdb\n",
      "evalua sequence /vol/pfc/data/datasets/Sequence_1_3_lmdb\n",
      "end /vol/pfc//data/models/train_25_batch/train_sequence_2_4_5_25_lmdb_iter_35000.caffemodel\n"
     ]
    }
   ],
   "source": [
    "\n",
    "len_model=len(models)\n",
    "len_sequences=len(sequences)\n",
    "print \"inicio\"\n",
    "data_evaluate2=[]\n",
    "for i in range(0,len_model):\n",
    "    model=models[i]\n",
    "    deploy=deploys[i]\n",
    "    print 'evalua el  modelo: '+str(model)\n",
    "    net=load_model(model,deploy)\n",
    "    transform=load_transform(net,means[i])\n",
    "    data_evaluate2.append([])\n",
    "    for j in range(0,len_sequences):\n",
    "        print 'evalua sequence '+str(sequences[j])\n",
    "        data=load_sequence(sequences[j])\n",
    "        data_evaluate2[i].append(process_sequence(net,data,transform))\n",
    "    print \"end \"+str(model)\n"
   ]
  },
  {
   "cell_type": "code",
   "execution_count": 9,
   "metadata": {
    "collapsed": false
   },
   "outputs": [
    {
     "data": {
      "text/plain": [
       "2"
      ]
     },
     "execution_count": 9,
     "metadata": {},
     "output_type": "execute_result"
    }
   ],
   "source": [
    "len(data_evaluate2[0])"
   ]
  },
  {
   "cell_type": "code",
   "execution_count": 10,
   "metadata": {
    "collapsed": false
   },
   "outputs": [],
   "source": [
    "seq_model_label=['seq_2_4_5_model']\n",
    "seq_dataset_label=['seq_2_4_5','seq_1_3']"
   ]
  },
  {
   "cell_type": "code",
   "execution_count": 11,
   "metadata": {
    "collapsed": true
   },
   "outputs": [],
   "source": [
    "def get_accuracy(y):\n",
    "    y_real=y[:,0]\n",
    "    y_pred=y[:,1]\n",
    "    metrics= y_real==y_pred\n",
    "    accuracy =(np.sum(metrics)*100.0)/len(metrics)\n",
    "    #print \"accruracy \"+\"{:10.4f}\".format(accuracy) +\"%\"\n",
    "    return \"{:10.4f}\".format(accuracy)+\"%\""
   ]
  },
  {
   "cell_type": "code",
   "execution_count": 12,
   "metadata": {
    "collapsed": false
   },
   "outputs": [
    {
     "name": "stdout",
     "output_type": "stream",
     "text": [
      "model seq_2_4_5_model\n",
      " seq_2_4_5:    22.1025% seq_1_3:    26.3101%\n"
     ]
    }
   ],
   "source": [
    "len_data_evaluate_model=len(data_evaluate2)\n",
    "\n",
    "for i in range(0,len_data_evaluate_model):\n",
    "    len_dataset_evaluate=len(data_evaluate2[i])\n",
    "    seq_for_model=data_evaluate2[i]\n",
    "    print \"model \"+seq_model_label[i]\n",
    "    result_line=\"\"\n",
    "    for j in range(0,len_dataset_evaluate):\n",
    "        result_line+=\" \"+seq_dataset_label[j]+\": \"+(get_accuracy(np.array(seq_for_model[j])))\n",
    "    \n",
    "    print result_line\n",
    "                            \n",
    "                                        "
   ]
  },
  {
   "cell_type": "markdown",
   "metadata": {},
   "source": [
    "## Tiempo de entrenamiento:\n",
    "\n",
    "El tiempo de entrenamiento esta desde 3h y 3 minutos a 4 horas depende del tamaño de la secuencia"
   ]
  },
  {
   "cell_type": "code",
   "execution_count": null,
   "metadata": {
    "collapsed": true
   },
   "outputs": [],
   "source": []
  }
 ],
 "metadata": {
  "kernelspec": {
   "display_name": "Python 2",
   "language": "python",
   "name": "python2"
  },
  "language_info": {
   "codemirror_mode": {
    "name": "ipython",
    "version": 2
   },
   "file_extension": ".py",
   "mimetype": "text/x-python",
   "name": "python",
   "nbconvert_exporter": "python",
   "pygments_lexer": "ipython2",
   "version": "2.7.6"
  }
 },
 "nbformat": 4,
 "nbformat_minor": 0
}
