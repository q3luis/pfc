{
 "cells": [
  {
   "cell_type": "code",
   "execution_count": 21,
   "metadata": {
    "collapsed": false
   },
   "outputs": [],
   "source": [
    "import sys\n",
    "sys.path.insert(0, \"../lib\")\n",
    "import numpy as np\n",
    "import matplotlib.pyplot as plt\n",
    "%matplotlib inline"
   ]
  },
  {
   "cell_type": "code",
   "execution_count": 8,
   "metadata": {
    "collapsed": true
   },
   "outputs": [],
   "source": [
    "def get_accuracy(y):\n",
    "    y_real=y[:,0]\n",
    "    y_pred=y[:,1]\n",
    "    metrics= y_real==y_pred\n",
    "    accuracy =(np.sum(metrics)*100.0)/len(metrics)\n",
    "    #print \"accruracy \"+\"{:10.4f}\".format(accuracy) +\"%\"\n",
    "    return \"{:10.4f}\".format(accuracy)+\"%\"\n"
   ]
  },
  {
   "cell_type": "code",
   "execution_count": 23,
   "metadata": {
    "collapsed": true
   },
   "outputs": [],
   "source": [
    "from sklearn.metrics import precision_score\n",
    "from sklearn.metrics import recall_score\n",
    "from sklearn.metrics import confusion_matrix\n",
    "def get_precision(y):\n",
    "    y_real=y[:,0]\n",
    "    y_pred=y[:,1]\n",
    "    return \" \"+str(precision_score(y_real,y_pred,average='micro'))\n",
    "\n",
    "def get_recall(y):\n",
    "    y_real=y[:,0]\n",
    "    y_pred=y[:,1]\n",
    "    return \" \"+str(recall_score(y_real,y_pred,average='micro'))\n",
    "\n",
    "def get_confusion_matrix(y):\n",
    "    y_real=y[:,0]\n",
    "    y_pred=y[:,1]\n",
    "    return confusion_matrix(y_real,y_pred)\n"
   ]
  },
  {
   "cell_type": "code",
   "execution_count": 17,
   "metadata": {
    "collapsed": true
   },
   "outputs": [],
   "source": [
    "import pickle\n",
    "path=\"/Users/luispeinado/Downloads/evaluate_seq2_vs_all.pkl\"\n",
    "data_evaluate2= pickle.load( open( path, \"rb\" ) )"
   ]
  },
  {
   "cell_type": "code",
   "execution_count": 18,
   "metadata": {
    "collapsed": false
   },
   "outputs": [],
   "source": [
    "seq_model_label=['seq2_model']\n",
    "seq_dataset_label=['seq1','seq2','seq3','seq4','seq5']"
   ]
  },
  {
   "cell_type": "code",
   "execution_count": 24,
   "metadata": {
    "collapsed": false
   },
   "outputs": [
    {
     "name": "stdout",
     "output_type": "stream",
     "text": [
      "model seq2_model\n",
      " seq1:    32.6078% precision :  0.326077856844 recall  0.326077856844\n"
     ]
    },
    {
     "data": {
      "image/png": "[encoded data removed]",
      "text/plain": [
       "<matplotlib.figure.Figure at 0x10aba3090>"
      ]
     },
     "metadata": {},
     "output_type": "display_data"
    }
   ],
   "source": [
    "len_data_evaluate_model=len(data_evaluate2)\n",
    "\n",
    "\n",
    "\n",
    "for i in range(0,len_data_evaluate_model):\n",
    "    len_dataset_evaluate=len(data_evaluate2[i])\n",
    "    seq_for_model=data_evaluate2[i]\n",
    "    print \"model \"+seq_model_label[i]\n",
    "    result_line=\"\"\n",
    "    for j in range(0,len_dataset_evaluate):\n",
    "        result_line=\" \"+seq_dataset_label[j]+\": \"+(get_accuracy(np.array(seq_for_model[j])))+\" precision : \"+(get_precision(np.array(seq_for_model[j])))+\" recall \"+(get_recall(np.array(seq_for_model[j])))\n",
    "        print result_line\n",
    "        confusion_matrix= get_confusion_matrix(np.array(seq_for_model[j]))\n",
    "        \n",
    "        plt.imshow(confusion_matrix, interpolation='nearest', cmap=plt.cm.Blues)"
   ]
  },
  {
   "cell_type": "code",
   "execution_count": null,
   "metadata": {
    "collapsed": true
   },
   "outputs": [],
   "source": []
  }
 ],
 "metadata": {
  "kernelspec": {
   "display_name": "Python 2",
   "language": "python",
   "name": "python2"
  },
  "language_info": {
   "codemirror_mode": {
    "name": "ipython",
    "version": 2
   },
   "file_extension": ".py",
   "mimetype": "text/x-python",
   "name": "python",
   "nbconvert_exporter": "python",
   "pygments_lexer": "ipython2",
   "version": "2.7.11"
  }
 },
 "nbformat": 4,
 "nbformat_minor": 0
}
